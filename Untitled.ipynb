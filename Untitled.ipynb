{
 "cells": [
  {
   "cell_type": "code",
   "execution_count": 17,
   "id": "4f456c9e-ad26-4104-b6bc-7309736dd637",
   "metadata": {},
   "outputs": [
    {
     "name": "stdin",
     "output_type": "stream",
     "text": [
      "عدد مورد نظر خود را وارد کنید :  321\n"
     ]
    },
    {
     "name": "stdout",
     "output_type": "stream",
     "text": [
      "123\n"
     ]
    }
   ],
   "source": [
    "#عدد گرفته شده از ورودی را معکوس کنید\n",
    "# t1\n",
    "a=int(input(\"عدد مورد نظر خود را وارد کنید : \"))\n",
    "b= str(a)    \n",
    "b=b[::-1]\n",
    "print(b)"
   ]
  },
  {
   "cell_type": "code",
   "execution_count": 1,
   "id": "e88027c8-c18a-45a6-8d5e-c3b33988add2",
   "metadata": {},
   "outputs": [
    {
     "name": "stdin",
     "output_type": "stream",
     "text": [
      "عدد مورد نظر خود را وارد کنید :  12\n"
     ]
    },
    {
     "name": "stdout",
     "output_type": "stream",
     "text": [
      "17\n"
     ]
    }
   ],
   "source": [
    "# عددی را از ورودی گرفته اگر + بود 5 واحد به آن اضافه و در غیر این صورت 5 واحد کم کنید\n",
    "#t2\n",
    "a=int(input(\"عدد مورد نظر خود را وارد کنید : \"))\n",
    "if a>=0:\n",
    "    print(a+5)\n",
    "else:\n",
    "    print(a-5)"
   ]
  },
  {
   "cell_type": "code",
   "execution_count": 29,
   "id": "0d0387c9-5f99-4551-82d0-f59810c7105f",
   "metadata": {},
   "outputs": [
    {
     "name": "stdin",
     "output_type": "stream",
     "text": [
      "عدد مورد نظر خود را وارد کنید :a  1\n",
      "عدد مورد نظر خود را وارد کنید : b 3\n",
      "عدد مورد نظر خود را وارد کنید : c 2\n"
     ]
    },
    {
     "name": "stdout",
     "output_type": "stream",
     "text": [
      "2\n"
     ]
    }
   ],
   "source": [
    "# سه عدد از ورودی گرفته و بزرگترین آنها را چاپ کند\n",
    "a=int(input(\"عدد مورد نظر خود را وارد کنید :a \"))\n",
    "b=int(input(\"عدد مورد نظر خود را وارد کنید : b\"))\n",
    "c=int(input(\"عدد مورد نظر خود را وارد کنید : c\"))\n",
    "max=int()\n",
    "if a>b>c:\n",
    "    max=a\n",
    "    print(max)\n",
    "\n",
    "elif b>a>c:\n",
    "    max=b\n",
    "    print(max)\n",
    "\n",
    "else:\n",
    "    print(c)"
   ]
  },
  {
   "cell_type": "code",
   "execution_count": 37,
   "id": "ce85a560-0dea-403d-88eb-1086722efbf0",
   "metadata": {},
   "outputs": [
    {
     "name": "stdin",
     "output_type": "stream",
     "text": [
      "عدد مورد نظر خود را وارد کنید :  123\n",
      "عدد مورد نظر خود را وارد کنید :  456\n",
      "عدد مورد نظر خود را وارد کنید :  789\n",
      "عدد مورد نظر خود را وارد کنید :  159\n",
      "عدد مورد نظر خود را وارد کنید :  357\n"
     ]
    },
    {
     "name": "stdout",
     "output_type": "stream",
     "text": [
      "789\n"
     ]
    }
   ],
   "source": [
    "# برنامه ای که 5 عدد از ورودی گرفته و بزرگترین آن را نمایش دهد\n",
    "#t3\n",
    "a=int(input(\"عدد مورد نظر خود را وارد کنید : \"))\n",
    "\n",
    "_max=a\n",
    "i=0\n",
    "while i<4:\n",
    "    a=int(input(\"عدد مورد نظر خود را وارد کنید : \"))\n",
    "    if a>_max:\n",
    "        _max=a\n",
    "    i+=1\n",
    "print(_max)"
   ]
  },
  {
   "cell_type": "code",
   "execution_count": 55,
   "id": "f39dfe24-ff3f-47ce-a29a-cf3c04b47f44",
   "metadata": {},
   "outputs": [
    {
     "name": "stdin",
     "output_type": "stream",
     "text": [
      "عدد مورد نظر خود را وارد کنید :  -9\n"
     ]
    },
    {
     "name": "stdout",
     "output_type": "stream",
     "text": [
      "فرد منفی-14\n"
     ]
    }
   ],
   "source": [
    "# برنامه ای که یک عدد از کاربر گرفته اگر زوج مثبت باشد عدد را +5 کند یا فرد منفی باشد عدد را -5کند\n",
    "#t4\n",
    "a=int(input(\"عدد مورد نظر خود را وارد کنید : \"))\n",
    "if a%2==0 and a>0:\n",
    "    print(f\"زوج مثبت{a+5}\")\n",
    "elif a>0:\n",
    "    \n",
    "#elif a%2 !=0 and a>0:\n",
    "    print(\"عدد فقط مثبت است\")\n",
    "elif a%2 !=0 and a<0:\n",
    "        print(f\"فرد منفی{a-5}\")\n",
    "#elif a%2==0 and a<0:\n",
    "elif a<0:\n",
    "    print(\"عدد فقط منفی است\")\n",
    "\n"
   ]
  },
  {
   "cell_type": "code",
   "execution_count": 68,
   "id": "898fca27-3cf4-4169-9079-5cea33fc5379",
   "metadata": {},
   "outputs": [
    {
     "name": "stdin",
     "output_type": "stream",
     "text": [
      "عدد مورد نظر خود را وارد کنید :  17\n"
     ]
    },
    {
     "name": "stdout",
     "output_type": "stream",
     "text": [
      "prime\n"
     ]
    }
   ],
   "source": [
    "# یک عدد از کاربر گرفته و مشخص کنید که عدد اول است یا خیر\n",
    "#t5\n",
    "x=int(input(\"عدد مورد نظر خود را وارد کنید : \"))\n",
    "i=2 \n",
    "y=x//2\n",
    "while i<=y:\n",
    "    if not x%i:\n",
    "        print(\"not prime\")\n",
    "        break\n",
    "    i+=1\n",
    "else:\n",
    "    print(\"prime\")"
   ]
  },
  {
   "cell_type": "code",
   "execution_count": 3,
   "id": "249636f3-858a-4cc5-8896-a10c9637b1e4",
   "metadata": {},
   "outputs": [
    {
     "name": "stdin",
     "output_type": "stream",
     "text": [
      "عدد مورد نظر خود را وارد کنید :  21\n"
     ]
    },
    {
     "name": "stdout",
     "output_type": "stream",
     "text": [
      "1\n",
      "3\n",
      "7\n"
     ]
    }
   ],
   "source": [
    "# یک عدد از کاربر گرفته و مقسوموعلیه آنها را نمایش دهد\n",
    "#t6\n",
    "x=int(input(\"عدد مورد نظر خود را وارد کنید : \"))\n",
    "i=1\n",
    "y=x//2\n",
    "while i<=y:\n",
    "    if not x%i:\n",
    "        print(i)\n",
    "    i+=1"
   ]
  },
  {
   "cell_type": "code",
   "execution_count": 4,
   "id": "aae453a6-d2d1-41a8-95e5-59a00efcf28e",
   "metadata": {},
   "outputs": [
    {
     "name": "stdin",
     "output_type": "stream",
     "text": [
      "عدد مورد نظر خود را وارد کنید :  5\n"
     ]
    },
    {
     "name": "stdout",
     "output_type": "stream",
     "text": [
      "120\n"
     ]
    }
   ],
   "source": [
    "# فاکتوریل را بدست آورید\n",
    "#t7\n",
    "a=int(input(\"عدد مورد نظر خود را وارد کنید : \"))\n",
    "i=1\n",
    "fact=1\n",
    "while i<=a:\n",
    "    fact*=i\n",
    "    i+=1\n",
    "print(fact)"
   ]
  },
  {
   "cell_type": "code",
   "execution_count": 5,
   "id": "381205ca-f227-4262-9a37-0ba5197fe247",
   "metadata": {},
   "outputs": [
    {
     "name": "stdin",
     "output_type": "stream",
     "text": [
      "عدد مورد نظر خود را وارد کنید :  10\n",
      "عدد مورد نظر خود را وارد کنید :  20\n"
     ]
    },
    {
     "name": "stdout",
     "output_type": "stream",
     "text": [
      "11\n",
      "12\n",
      "13\n",
      "14\n",
      "15\n",
      "16\n",
      "17\n",
      "18\n",
      "19\n"
     ]
    }
   ],
   "source": [
    "#t8\n",
    "#برنامه ای بنویسید که دو عدد از کاربر دریافت کند و اعداد صحیح مابین آنها را نمایش دهد\n",
    "a=int(input(\"عدد مورد نظر خود را وارد کنید : \"))\n",
    "b=int(input(\"عدد مورد نظر خود را وارد کنید : \"))\n",
    "if a>b:\n",
    "    a,b=b,a\n",
    "i=a+1\n",
    "while i<b:\n",
    "    print(i)\n",
    "    i+=1"
   ]
  },
  {
   "cell_type": "code",
   "execution_count": 6,
   "id": "62ea466c-25a5-4027-bd68-7ccc9034a702",
   "metadata": {},
   "outputs": [
    {
     "name": "stdin",
     "output_type": "stream",
     "text": [
      "عدد مورد نظر خود را وارد کنید :  10\n",
      "عدد مورد نظر خود را وارد کنید :  20\n"
     ]
    },
    {
     "name": "stdout",
     "output_type": "stream",
     "text": [
      "11\n",
      "12\n",
      "13\n",
      "14\n",
      "15\n",
      "16\n",
      "17\n",
      "18\n",
      "19\n"
     ]
    }
   ],
   "source": [
    "#t8\n",
    "#برنامه ای بنویسید که دو عدد از کاربر دریافت کند و اعداد صحیح مابین آنها را نمایش دهد\n",
    "a=int(input(\"عدد مورد نظر خود را وارد کنید : \"))\n",
    "b=int(input(\"عدد مورد نظر خود را وارد کنید : \"))\n",
    "if a>b:\n",
    "    _min=b\n",
    "    _max=a\n",
    "else:\n",
    "    _min=a\n",
    "    _max=b\n",
    "i=_min+1\n",
    "while i<_max:\n",
    "    print(i)\n",
    "    i+=1"
   ]
  },
  {
   "cell_type": "code",
   "execution_count": 7,
   "id": "231d767d-3c53-4dca-a5d5-14529952d831",
   "metadata": {},
   "outputs": [
    {
     "name": "stdout",
     "output_type": "stream",
     "text": [
      "[3, 4, 5, 6, 7]\n"
     ]
    }
   ],
   "source": [
    "# t9\n",
    "# برنامه ای بنویسید که لیست عددی داخل آن تعریف شده باشد که به اعداد داخل لیست دو واحد اضافه کند\n",
    "lst=[1,2,3,4,5]\n",
    "i=0\n",
    "while i<=4:\n",
    "    lst[i]+=2\n",
    "    i+=1\n",
    "print(lst)"
   ]
  },
  {
   "cell_type": "code",
   "execution_count": 9,
   "id": "e2a95615-f6ef-4f68-9cef-a9547e9b9478",
   "metadata": {},
   "outputs": [
    {
     "name": "stdin",
     "output_type": "stream",
     "text": [
      "عدد مورد نظر خود را وارد کنید :  2\n"
     ]
    },
    {
     "name": "stdout",
     "output_type": "stream",
     "text": [
      "[20, 3, 5, 9, 18, 1]\n"
     ]
    }
   ],
   "source": [
    "# t10\n",
    "# برنامه ای بنویسید یک عدد از ورودی دریافت کند و هرچه عدد مثل آن در لیست وجود داشت را ح\n",
    "lst=[20,3,5,9,2,18,1]\n",
    "a=int(input(\"عدد مورد نظر خود را وارد کنید : \"))\n",
    "while a in lst:\n",
    "    lst.remove(a)\n",
    "print(lst)"
   ]
  }
 ],
 "metadata": {
  "kernelspec": {
   "display_name": "Python 3 (ipykernel)",
   "language": "python",
   "name": "python3"
  },
  "language_info": {
   "codemirror_mode": {
    "name": "ipython",
    "version": 3
   },
   "file_extension": ".py",
   "mimetype": "text/x-python",
   "name": "python",
   "nbconvert_exporter": "python",
   "pygments_lexer": "ipython3",
   "version": "3.8.1"
  }
 },
 "nbformat": 4,
 "nbformat_minor": 5
}
